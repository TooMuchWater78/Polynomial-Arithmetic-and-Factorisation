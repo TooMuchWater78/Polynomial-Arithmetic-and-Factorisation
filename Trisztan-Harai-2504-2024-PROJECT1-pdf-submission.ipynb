{
 "cells": [
  {
   "cell_type": "markdown",
   "id": "f426acb0-2f10-4a8e-b72c-f58e955c6b5a",
   "metadata": {},
   "source": [
    "# MATH2504 S2, 2024, Project 1 Submission\n",
    "\n",
    "### Trisztan Harai, 47483073\n",
    "\n",
    "<html>\n",
    "    <a href=\"https://github.com/TooMuchWater78/Trisztan-Harai-2504-2024-PROJECT1.git\">\n",
    "    GitHub repo\n",
    "    </a>\n",
    "<html>"
   ]
  },
  {
   "cell_type": "markdown",
   "id": "306a7690-2ed4-4cf8-8966-a32237d3d014",
   "metadata": {},
   "source": [
    "## Task 1"
   ]
  },
  {
   "cell_type": "markdown",
   "id": "bd4507d1-932c-4e04-bedf-e8b3e2308600",
   "metadata": {},
   "source": [
    "## Task 2"
   ]
  },
  {
   "cell_type": "markdown",
   "id": "df0852e9-f7ac-45d1-a998-117e96845161",
   "metadata": {},
   "source": [
    "When changing `max_degree_allowed` from `400` to `100` an error occurs when calling `prod_test_poly`. Looking at the code, we see that within this function, the error occurs in the second `for` loop section:"
   ]
  },
  {
   "cell_type": "code",
   "execution_count": null,
   "id": "91a1020e-c8e9-4da5-aced-854f5677aedc",
   "metadata": {},
   "outputs": [],
   "source": [
    "for _ in 1:N\n",
    "    p_base = Polynomial(Term(1,0))\n",
    "    for _ in 1:N_prods\n",
    "        p = rand(Polynomial)\n",
    "        prod = p_base*p\n",
    "        @assert leading(prod) == leading(p_base)*leading(p)\n",
    "        p_base = prod\n",
    "    end\n",
    "end"
   ]
  },
  {
   "cell_type": "markdown",
   "id": "17cf1063-76b2-4a04-830c-38ffaa6af700",
   "metadata": {},
   "source": [
    "The relevant input values are `N = 1000` and `N_prods = 20`. Looking at `rand(::Polynomial)`, we see that the vast majority of randomly generated polynomials will have degree between 0 and 10. Thus, with `N_prods = 20`, the maximum degree of the polynomial generated in the inner for loop via multiplication will be about 200. This is less than the original `max_degree_allowed` of `400`, but larger than the new `100`. Therefore, the created polynomial has degree too high and an error is thrown.\n",
    "\n",
    "Since `max_degree_allowed` had no integral role in any of the defined functions beyond acting as a 'limiter' on size, it's removal causes no problems. Terms, polynomials, etc. are still perfectly well defined without `max_degree_allowed`. The change was made in commit 26 in the repo, and the files `poly_factorization_project.jl`, `polynomial.jl` and `term.jl` were edited."
   ]
  },
  {
   "cell_type": "markdown",
   "id": "7f82f947-6934-4b12-8fb7-fe22bef64532",
   "metadata": {},
   "source": [
    "## Task 3"
   ]
  },
  {
   "cell_type": "markdown",
   "id": "403c9e79-1fe8-4a54-8550-60587151c6a1",
   "metadata": {},
   "source": [
    "The below code implements `lowest_to_highest` and all pretty printing, apart from the unicode superscripts:"
   ]
  },
  {
   "cell_type": "code",
   "execution_count": null,
   "id": "2f010372-e052-4b79-8ec2-733bbe3c3f46",
   "metadata": {},
   "outputs": [],
   "source": [
    "if (@isdefined lowest_to_highest) && lowest_to_highest == true\n",
    "            for (i,t) in enumerate(p.terms)\n",
    "                if !iszero(t)\n",
    "                    print(io, i == 1 ? t : (t.coeff < 0 ? \" - $(string(t)[2:end])\" : \" + $t\"))\n",
    "                end\n",
    "            end\n",
    "        else\n",
    "            for (i,t) in enumerate(reverse(p.terms))\n",
    "                if !iszero(t)\n",
    "                    print(io, i == 1 ? t : (t.coeff < 0 ? \" - $(string(t)[2:end])\" : \" + $t\"))\n",
    "                end\n",
    "            end\n",
    "        end"
   ]
  },
  {
   "cell_type": "markdown",
   "id": "11eff1a5-a90b-4a2e-bd35-d1a8e684cabc",
   "metadata": {},
   "source": [
    "Since the code has to run even if `lowest_to_highest` doesn't exist, I use an `@isdefined` call to avoid a crash in case it isn't defined. Then if `@isdefined` returns `true`, I check the actual value of `lowest_to_highest`. If it is true, I leave the enumeration of the terms in the original order; if it's false, I reverse the order, thus printing the polynomial with terms in descending order.\n",
    "\n",
    "To achieve basic pretty printing, I use a basic double ternary operator, checking whether the term's coefficient is negative and if the term being printed is the first in the polynomial."
   ]
  },
  {
   "cell_type": "code",
   "execution_count": null,
   "id": "8d2a8ddd-93e4-4900-b67d-9f2ea71121a2",
   "metadata": {},
   "outputs": [],
   "source": [
    "\"\"\"\n",
    "Print a number in unicode superscript.\n",
    "\"\"\"\n",
    "function number_superscript(i::Int)\n",
    "    if i < 0\n",
    "        c = [Char(0x207B)]  # superscript minus sign\n",
    "    else\n",
    "        c = []\n",
    "    end\n",
    "\n",
    "    # digits separates the digits of i into an array in reverse order (right to left); this order must be reversed for correct printing\n",
    "    for j in reverse(digits(abs(i)))\n",
    "        # 1, 2 and 3 do not follow the same unicode pattern as 4 onwards\n",
    "        if j == 0\n",
    "            push!(c, Char(0x2070))\n",
    "        elseif j == 1\n",
    "            push!(c, Char(0x00B9))\n",
    "        elseif j == 2\n",
    "            push!(c, Char(0x00B2))\n",
    "        elseif j == 3\n",
    "            push!(c, Char(0x00B3))\n",
    "        else\n",
    "            push!(c, Char(0x2070+j))\n",
    "        end\n",
    "    end\n",
    "    return join(c)\n",
    "end\n",
    "\n",
    "\"\"\"\n",
    "Show a term.\n",
    "\"\"\"\n",
    "show(io::IO, t::Term) = t.degree == 0 ? print(io, \"$(t.coeff)\") : print(io, \"$(t.coeff)⋅x$(number_superscript(t.degree))\") #\\cdot + [TAB]"
   ]
  },
  {
   "cell_type": "markdown",
   "id": "6d7fa433-2866-46cf-8a90-ed339f6880b9",
   "metadata": {},
   "source": [
    "The above code takes care of the unicode superscript printing. As mentioned in the comments, `digits` produces an array filled with the digits of `i` in reverse order (i.e. right to left); to print properly, this order must be reversed. The `elseif` cascade is necessary, as the unicode values of `1, 2, 3` as superscripts do not align with the general pattern from `4` onwards.\n",
    "\n",
    "In the `show` function, I have used a ternary operator to remove the $x^0$ term and only print its coefficient instead. I have also amended the old part of the code to print the unicode superscript."
   ]
  },
  {
   "cell_type": "markdown",
   "id": "140ce537-dabd-4e7e-8c11-edf443cf7a60",
   "metadata": {},
   "source": [
    "## Task 4"
   ]
  },
  {
   "cell_type": "markdown",
   "id": "164b2457-9a55-4029-bb09-fceda9065688",
   "metadata": {},
   "source": [
    "## Task 5"
   ]
  },
  {
   "cell_type": "markdown",
   "id": "6db82877-444b-45b2-b4c3-049cd3f2287e",
   "metadata": {},
   "source": [
    "## Task 6"
   ]
  },
  {
   "cell_type": "markdown",
   "id": "a2c6c37c-3ded-4003-b40d-1a6dffe23384",
   "metadata": {},
   "source": [
    "## Task 7"
   ]
  },
  {
   "cell_type": "code",
   "execution_count": null,
   "id": "b813187d-cf10-4f22-831f-66e93fad1260",
   "metadata": {},
   "outputs": [],
   "source": []
  }
 ],
 "metadata": {
  "kernelspec": {
   "display_name": "Julia 1.10.5",
   "language": "julia",
   "name": "julia-1.10"
  },
  "language_info": {
   "file_extension": ".jl",
   "mimetype": "application/julia",
   "name": "julia",
   "version": "1.10.5"
  }
 },
 "nbformat": 4,
 "nbformat_minor": 5
}
