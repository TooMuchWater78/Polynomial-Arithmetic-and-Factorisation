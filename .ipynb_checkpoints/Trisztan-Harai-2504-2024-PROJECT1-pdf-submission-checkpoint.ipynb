{
 "cells": [
  {
   "cell_type": "markdown",
   "id": "f426acb0-2f10-4a8e-b72c-f58e955c6b5a",
   "metadata": {},
   "source": [
    "# MATH2504 S2, 2024, Project 1 Submission\n",
    "\n",
    "### Trisztan Harai, 47483073\n",
    "\n",
    "<html>\n",
    "    <a href=\"https://github.com/TooMuchWater78/Trisztan-Harai-2504-2024-PROJECT1.git\">\n",
    "    GitHub repo\n",
    "    </a>\n",
    "<html>"
   ]
  },
  {
   "cell_type": "markdown",
   "id": "306a7690-2ed4-4cf8-8966-a32237d3d014",
   "metadata": {},
   "source": [
    "## Task 1"
   ]
  },
  {
   "cell_type": "markdown",
   "id": "bd4507d1-932c-4e04-bedf-e8b3e2308600",
   "metadata": {},
   "source": [
    "## Task 2"
   ]
  },
  {
   "cell_type": "markdown",
   "id": "7f82f947-6934-4b12-8fb7-fe22bef64532",
   "metadata": {},
   "source": [
    "## Task 3"
   ]
  },
  {
   "cell_type": "markdown",
   "id": "140ce537-dabd-4e7e-8c11-edf443cf7a60",
   "metadata": {},
   "source": [
    "## Task 4"
   ]
  },
  {
   "cell_type": "markdown",
   "id": "164b2457-9a55-4029-bb09-fceda9065688",
   "metadata": {},
   "source": [
    "## Task 5"
   ]
  },
  {
   "cell_type": "markdown",
   "id": "6db82877-444b-45b2-b4c3-049cd3f2287e",
   "metadata": {},
   "source": [
    "## Task 6"
   ]
  },
  {
   "cell_type": "markdown",
   "id": "a2c6c37c-3ded-4003-b40d-1a6dffe23384",
   "metadata": {},
   "source": [
    "## Task 7"
   ]
  },
  {
   "cell_type": "code",
   "execution_count": null,
   "id": "d7f42b26-501a-4a08-a134-87d0516f94f5",
   "metadata": {},
   "outputs": [],
   "source": []
  }
 ],
 "metadata": {
  "kernelspec": {
   "display_name": "",
   "name": ""
  },
  "language_info": {
   "name": ""
  }
 },
 "nbformat": 4,
 "nbformat_minor": 5
}
