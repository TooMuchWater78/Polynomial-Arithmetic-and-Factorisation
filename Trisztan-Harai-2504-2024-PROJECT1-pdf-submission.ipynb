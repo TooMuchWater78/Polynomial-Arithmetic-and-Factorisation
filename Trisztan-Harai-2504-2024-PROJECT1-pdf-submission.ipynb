{
 "cells": [
  {
   "cell_type": "markdown",
   "id": "f426acb0-2f10-4a8e-b72c-f58e955c6b5a",
   "metadata": {},
   "source": [
    "# MATH2504 S2, 2024, Project 1 Submission\n",
    "\n",
    "### Trisztan Harai, 47483073\n",
    "\n",
    "<html>\n",
    "    <a href=\"https://github.com/TooMuchWater78/Trisztan-Harai-2504-2024-PROJECT1.git\">\n",
    "    GitHub repo\n",
    "    </a>\n",
    "<html>"
   ]
  },
  {
   "cell_type": "markdown",
   "id": "306a7690-2ed4-4cf8-8966-a32237d3d014",
   "metadata": {},
   "source": [
    "## Task 1"
   ]
  },
  {
   "cell_type": "markdown",
   "id": "bd4507d1-932c-4e04-bedf-e8b3e2308600",
   "metadata": {},
   "source": [
    "## Task 2"
   ]
  },
  {
   "cell_type": "markdown",
   "id": "df0852e9-f7ac-45d1-a998-117e96845161",
   "metadata": {},
   "source": [
    "When changing `max_degree_allowed` from `400` to `100` an error occurs when calling `prod_test_poly`. Looking at the code, we see that within this function, the error occurs in the second `for` loop section:"
   ]
  },
  {
   "cell_type": "code",
   "execution_count": null,
   "id": "91a1020e-c8e9-4da5-aced-854f5677aedc",
   "metadata": {},
   "outputs": [],
   "source": [
    "for _ in 1:N\n",
    "    p_base = Polynomial(Term(1,0))\n",
    "    for _ in 1:N_prods\n",
    "        p = rand(Polynomial)\n",
    "        prod = p_base*p\n",
    "        @assert leading(prod) == leading(p_base)*leading(p)\n",
    "        p_base = prod\n",
    "    end\n",
    "end"
   ]
  },
  {
   "cell_type": "markdown",
   "id": "17cf1063-76b2-4a04-830c-38ffaa6af700",
   "metadata": {},
   "source": [
    "The relevant input values are `N = 1000` and `N_prods = 20`. Looking at `rand(::Polynomial)`, we see that the vast majority of randomly generated polynomials will have degree between 0 and 10. Thus, with `N_prods = 20`, the maximum degree of the polynomial generated in the inner for loop via multiplication will be about 200. This is less than the original `max_degree_allowed` of `400`, but larger than the new `100`. Therefore, the created polynomial has degree too high and an error is thrown.\n",
    "\n",
    "Since `max_degree_allowed` had no integral role in any of the defined functions beyond acting as a 'limiter' on size, it's removal causes no problems. Terms, polynomials, etc. are still perfectly well defined without `max_degree_allowed`. The change was made in commit 26 in the repo, and the files `poly_factorization_project.jl`, `polynomial.jl` and `term.jl` were edited."
   ]
  },
  {
   "cell_type": "markdown",
   "id": "7f82f947-6934-4b12-8fb7-fe22bef64532",
   "metadata": {},
   "source": [
    "## Task 3"
   ]
  },
  {
   "cell_type": "markdown",
   "id": "403c9e79-1fe8-4a54-8550-60587151c6a1",
   "metadata": {},
   "source": [
    "The below code implements `lowest_to_highest` and all pretty printing, apart from the unicode superscripts:"
   ]
  },
  {
   "cell_type": "code",
   "execution_count": null,
   "id": "2f010372-e052-4b79-8ec2-733bbe3c3f46",
   "metadata": {},
   "outputs": [],
   "source": [
    "if (@isdefined lowest_to_highest) && lowest_to_highest == true\n",
    "            for (i,t) in enumerate(p.terms)\n",
    "                if !iszero(t)\n",
    "                    print(io, i == 1 ? t : (t.coeff < 0 ? \" - $(string(t)[2:end])\" : \" + $t\"))  # if coefficient is negative, print minus sign\n",
    "                end\n",
    "            end\n",
    "        else\n",
    "            for (i,t) in enumerate(reverse(p.terms))  # if lowest_to_highest is false, print polynomial in descending order\n",
    "                if !iszero(t)\n",
    "                    print(io, i == 1 ? t : (t.coeff < 0 ? \" - $(string(t)[2:end])\" : \" + $t\"))  # if coefficient is negative, print minus sign\n",
    "                end\n",
    "            end\n",
    "        end"
   ]
  },
  {
   "cell_type": "markdown",
   "id": "11eff1a5-a90b-4a2e-bd35-d1a8e684cabc",
   "metadata": {},
   "source": [
    "Since the code has to run even if `lowest_to_highest` doesn't exist, I use an `@isdefined` call to avoid a crash in case it isn't defined. Then if `@isdefined` returns `true`, I check the actual value of `lowest_to_highest`. If it is true, I leave the enumeration of the terms in the original order; if it's false, I reverse the order, thus printing the polynomial with terms in descending order.\n",
    "\n",
    "To achieve pretty printing, I use the below code, checking whether the term's coefficient is negative, whether the degree is 1, whether the coefficient is `1` or `-1` and if the term being printed is the first in the polynomial."
   ]
  },
  {
   "cell_type": "code",
   "execution_count": null,
   "id": "8d2a8ddd-93e4-4900-b67d-9f2ea71121a2",
   "metadata": {},
   "outputs": [],
   "source": [
    "\"\"\"\n",
    "Print a number in unicode superscript.\n",
    "\"\"\"\n",
    "function number_superscript(i::Int)\n",
    "    if i < 0\n",
    "        c = [Char(0x207B)]  # superscript minus sign\n",
    "    else\n",
    "        c = []\n",
    "    end\n",
    "\n",
    "    # digits separates the digits of i into an array in reverse order (right to left); this order must be reversed for correct printing\n",
    "    for j in reverse(digits(abs(i)))\n",
    "        # 1, 2 and 3 do not follow the same unicode pattern as 4 onwards\n",
    "        if j == 0\n",
    "            push!(c, Char(0x2070))\n",
    "        elseif j == 1\n",
    "            push!(c, Char(0x00B9))\n",
    "        elseif j == 2\n",
    "            push!(c, Char(0x00B2))\n",
    "        elseif j == 3\n",
    "            push!(c, Char(0x00B3))\n",
    "        else\n",
    "            push!(c, Char(0x2070+j))\n",
    "        end\n",
    "    end\n",
    "    return join(c)\n",
    "end\n",
    "\n",
    "\"\"\"\n",
    "Show a term.\n",
    "\"\"\"\n",
    "function show(io::IO, t::T) where T <: AbsTerm\n",
    "    t.degree == 0 && return print(io, \"$(t.coeff)\")  # do not print x for constant terms\n",
    "    if abs(t.coeff) == 1  # do not print coefficient 1 explicitly\n",
    "        t.degree == 1 ? print(io, \"x\") : print(io, \"x$(number_superscript(t.degree))\")\n",
    "    else # do not print exponent if degree is 1; otherwise print exponent with unicode superscript\n",
    "        t.degree == 1 ? print(io, \"$(t.coeff)⋅x\") : print(io, \"$(t.coeff)⋅x$(number_superscript(t.degree))\")\n",
    "    end\n",
    "end"
   ]
  },
  {
   "cell_type": "markdown",
   "id": "6d7fa433-2866-46cf-8a90-ed339f6880b9",
   "metadata": {},
   "source": [
    "The above code takes care of the unicode superscript printing. As mentioned in the comments, `digits` produces an array filled with the digits of `i` in reverse order (i.e. right to left); to print properly, this order must be reversed. The `elseif` cascade is necessary, as the unicode values of `1, 2, 3` as superscripts do not align with the general pattern from `4` onwards.\n",
    "\n",
    "I have explained in the comments of the `show` function what each part of the code does."
   ]
  },
  {
   "cell_type": "markdown",
   "id": "140ce537-dabd-4e7e-8c11-edf443cf7a60",
   "metadata": {},
   "source": [
    "## Task 4"
   ]
  },
  {
   "cell_type": "markdown",
   "id": "5bdaad05-4cb2-41dc-960a-1ce239bbdf75",
   "metadata": {},
   "source": [
    "To make the code cleaner, I introduced abstract types called `AbsPoly` and `AbsTerm`, under which `Polynomial` and `PolynomialBig`, `Term` and `TermBig`, respectively, became subtypes. This way, all the original functions made by Yoni also work for `PolynomialBig` and `TermBig`. The definitions of `PolynomialBig` and `TermBig` are shown below."
   ]
  },
  {
   "cell_type": "code",
   "execution_count": null,
   "id": "36a43dff-cbe1-4afe-ac1a-11b0289cee25",
   "metadata": {},
   "outputs": [],
   "source": [
    "\"\"\"\n",
    "A TermBig.\n",
    "\"\"\"\n",
    "struct TermBig <: AbsTerm  #structs are immutable by default\n",
    "    coeff::BigInt\n",
    "    degree::Int\n",
    "    function TermBig(coeff::Integer, degree::Int)\n",
    "        degree < 0 && error(\"Degree must be non-negative\")\n",
    "        coeff != 0 ? new(big(coeff),degree) : new(big(coeff),0)\n",
    "    end\n",
    "end\n",
    "\n",
    "\"\"\"\n",
    "Define equality for TermBig\n",
    "\"\"\"\n",
    "==(a::TermBig, b::TermBig) = (a.coeff == b.coeff) && (a.degree == b.degree)\n",
    "\n",
    "\"\"\"\n",
    "A PolynomialBig type - designed to be for polynomials with integer coefficients.\n",
    "\"\"\"\n",
    "struct PolynomialBig <: AbsPoly\n",
    "\n",
    "    #A zero packed vector of terms\n",
    "    #Terms are assumed to be in order\n",
    "    #until the degree of the polynomial. The leading term (i.e. last) is assumed to be non-zero except \n",
    "    #for the zero polynomial where the vector is of length 1.\n",
    "    #Note: at positions where the coefficient is 0, the power of the term is also 0 (this is how the TermBig type is designed)\n",
    "    #The maximum length allowed for the vector is max_degree+1\n",
    "    terms::Vector{TermBig}   \n",
    "    \n",
    "    #Inner constructor of 0 polynomial\n",
    "    PolynomialBig() = new([zero(TermBig)])\n",
    "\n",
    "    #Inner constructor of polynomial based on arbitrary list of terms\n",
    "    function PolynomialBig(vt::Vector{TermBig})\n",
    "\n",
    "        #Filter the vector so that there is not more than a single zero term\n",
    "        vt = filter((t)->!iszero(t), vt)\n",
    "        if isempty(vt)\n",
    "            vt = [zero(TermBig)]\n",
    "        end\n",
    "\n",
    "        max_degree = maximum((t)->t.degree, vt)\n",
    "        terms = [zero(TermBig) for i in 0:max_degree] #First set all terms with zeros\n",
    "\n",
    "        #now update based on the input terms\n",
    "        for t in vt\n",
    "            terms[t.degree + 1] = t #+1 accounts for 1-indexing\n",
    "        end\n",
    "        return new(terms)\n",
    "    end\n",
    "end"
   ]
  },
  {
   "cell_type": "markdown",
   "id": "c0f9c815-7d14-49f8-9d33-cb1cd0fba7a7",
   "metadata": {},
   "source": [
    "Equality had to be redefined for `TermBig` for technical reasons, as it uses `BigInt` rather than a \"regular\" `Int` type. An example of a test for `Polynomial`, and the corresponding duplicate for `PolynomialBig`, are shown below. "
   ]
  },
  {
   "cell_type": "code",
   "execution_count": null,
   "id": "ca40ebf6-6d46-4260-a121-2dba457d55ba",
   "metadata": {},
   "outputs": [],
   "source": [
    "\"\"\"\n",
    "Executes all polynomial factorization tests in this file.\n",
    "\"\"\"\n",
    "function factorization_tests()\n",
    "    factor_test_poly()\n",
    "    factor_test_polyBig()\n",
    "end\n",
    "\n",
    "\"\"\"\n",
    "Test factorization of polynomials.\n",
    "\"\"\"\n",
    "function factor_test_poly(;N::Int = 10, seed::Int = 0, primes::Vector{Int} = [5,17,19])\n",
    "    Random.seed!(seed)\n",
    "    for prime in primes\n",
    "        print(\"\\ndoing prime = $prime \\t\")\n",
    "        for _ in 1:N\n",
    "            print(\".\")\n",
    "            p = rand(Polynomial)\n",
    "            factorization = factor(p, prime)\n",
    "            pr = mod(expand_factorization(factorization),prime)\n",
    "            @assert mod(p-pr,prime) == 0 \n",
    "        end\n",
    "    end\n",
    "\n",
    "    println(\"\\nfactor_test_poly - PASSED\")\n",
    "end\n",
    "\n",
    "\"\"\"\n",
    "Test factorization of BigInt polynomials.\n",
    "\"\"\"\n",
    "function factor_test_polyBig(;N::Int = 10, seed::Int = 0, primes::Vector{Int} = [5,17,19])\n",
    "    Random.seed!(seed)\n",
    "    for prime in primes\n",
    "        print(\"\\ndoing prime = $prime \\t\")\n",
    "        for _ in 1:N\n",
    "            print(\".\")\n",
    "            p = rand(PolynomialBig)\n",
    "            factorization = factor(p, prime)\n",
    "            pr = mod(expand_factorization(factorization),prime)\n",
    "            @assert mod(p-pr,prime) == 0 \n",
    "        end\n",
    "    end\n",
    "\n",
    "    println(\"\\nfactor_test_polyBig - PASSED\")\n",
    "end"
   ]
  },
  {
   "cell_type": "markdown",
   "id": "41b4857f-2701-4521-89f4-d0153c18d955",
   "metadata": {},
   "source": [
    "As per the instructions, overflow tests were also written to demonstrate the main advantage of using `BigInt` coefficients."
   ]
  },
  {
   "cell_type": "code",
   "execution_count": null,
   "id": "cdc2c98a-bfdd-4557-843f-f1f48979006c",
   "metadata": {},
   "outputs": [],
   "source": [
    "function polynomial_overflow_tests()\n",
    "    poly_overflow()\n",
    "    polyBig_overflow()\n",
    "end\n",
    "\n",
    "\"\"\"\n",
    "Tests whether a polynomial can overflow (note: should fail).\n",
    "\"\"\"\n",
    "function poly_overflow(; N::Int = 128)\n",
    "    p = x_poly(Polynomial)\n",
    "    for _ in 1:N\n",
    "        @assert leading(p*2) > leading(p)\n",
    "        p *= 2\n",
    "    end\n",
    "    println(\"poly_overflow - PASSED\")\n",
    "end\n",
    "\n",
    "\"\"\"\n",
    "Tests whether a BigInt polynomial can overflow.\n",
    "\"\"\"\n",
    "function polyBig_overflow(; N::Int = 128)\n",
    "    p = x_poly(PolynomialBig)\n",
    "    for _ in 1:N\n",
    "        @assert leading(p*2) > leading(p)\n",
    "        p *= 2\n",
    "    end\n",
    "    println(\"polyBig_overflow - PASSED\")\n",
    "end"
   ]
  },
  {
   "cell_type": "markdown",
   "id": "1252dcfb-026d-41dc-b0fa-69c9834c4e8d",
   "metadata": {},
   "source": [
    "One can see that the `poly_overflow` test is guaranteed to fail (assert `false`) for the `Polynomial` type. It passes for `PolynomialBig`. Below is the code used to empirically compare run-times for `Polynomial` and `PolynomialBig` multiplication. Output is given in the subsequent cell."
   ]
  },
  {
   "cell_type": "code",
   "execution_count": null,
   "id": "1b4c7051-a025-48c2-9417-3b11870b9b06",
   "metadata": {},
   "outputs": [],
   "source": [
    "\"\"\"\n",
    "Executes all polynomial product tests in this file.\n",
    "\"\"\"\n",
    "function polynomial_product_tests()\n",
    "    @time prod_test_poly()\n",
    "    @time prod_test_polyBig()\n",
    "end\n",
    "\n",
    "\"\"\"\n",
    "Test product of polynomials.\n",
    "\"\"\"\n",
    "function prod_test_poly(;N::Int = 100, N_prods::Int = 10, seed::Int = 0)\n",
    "    Random.seed!(seed)\n",
    "    for _ in 1:N\n",
    "        p1 = rand(Polynomial)\n",
    "        p2 = rand(Polynomial)\n",
    "        prod = p1*p2\n",
    "        @assert leading(prod) == leading(p1)*leading(p2)\n",
    "    end\n",
    "\n",
    "    for _ in 1:N\n",
    "        p_base = Polynomial(Term(1,0))\n",
    "        for _ in 1:N_prods\n",
    "            p = rand(Polynomial)\n",
    "            prod = p_base*p\n",
    "            @assert leading(prod) == leading(p_base)*leading(p)\n",
    "            p_base = prod\n",
    "        end\n",
    "    end\n",
    "    println(\"prod_test_poly - PASSED\")\n",
    "end\n",
    "\n",
    "\"\"\"\n",
    "Test product of BigInt polynomials.\n",
    "\"\"\"\n",
    "function prod_test_polyBig(;N::Int = 100, N_prods::Int = 10, seed::Int = 0)\n",
    "    Random.seed!(seed)\n",
    "    for _ in 1:N\n",
    "        p1 = rand(PolynomialBig)\n",
    "        p2 = rand(PolynomialBig)\n",
    "        prod = p1*p2\n",
    "        @assert leading(prod) == leading(p1)*leading(p2)\n",
    "    end\n",
    "\n",
    "    for _ in 1:N\n",
    "        p_base = PolynomialBig(TermBig(1,0))\n",
    "        for _ in 1:N_prods\n",
    "            p = rand(PolynomialBig)\n",
    "            prod = p_base*p\n",
    "            @assert leading(prod) == leading(p_base)*leading(p)\n",
    "            p_base = prod\n",
    "        end\n",
    "    end\n",
    "    println(\"prod_test_polyBig - PASSED\")\n",
    "end"
   ]
  },
  {
   "cell_type": "markdown",
   "id": "92f6e744-0964-46e5-ba32-0f8014536824",
   "metadata": {},
   "source": [
    "```\n",
    "--- Polynomial product tests ---\n",
    "prod_test_poly - PASSED\n",
    "  0.471203 seconds (3.40 M allocations: 551.086 MiB, 27.62% gc time, 1.15% compilation time)\n",
    "prod_test_polyBig - PASSED\n",
    " 17.059532 seconds (85.48 M allocations: 3.471 GiB, 6.13% gc time, 0.11% compilation time)\n",
    "```"
   ]
  },
  {
   "cell_type": "markdown",
   "id": "0b22816d-51f2-4a73-9e7a-4a3d6624efb2",
   "metadata": {},
   "source": [
    "I decreased the number of loops performed from the original code because it was taking too long to run; the desired results are clear even with these lower numbers. `PolynomialBig` is clearly far slower (over 34 times slower) than `Polynomial`, as we would expect from the larger memory allocation of `BigInt` compared to `Int64`."
   ]
  },
  {
   "cell_type": "markdown",
   "id": "164b2457-9a55-4029-bb09-fceda9065688",
   "metadata": {},
   "source": [
    "## Task 5"
   ]
  },
  {
   "cell_type": "markdown",
   "id": "6db82877-444b-45b2-b4c3-049cd3f2287e",
   "metadata": {},
   "source": [
    "## Task 6"
   ]
  },
  {
   "cell_type": "markdown",
   "id": "a2c6c37c-3ded-4003-b40d-1a6dffe23384",
   "metadata": {},
   "source": [
    "## Task 7"
   ]
  },
  {
   "cell_type": "code",
   "execution_count": null,
   "id": "b813187d-cf10-4f22-831f-66e93fad1260",
   "metadata": {},
   "outputs": [],
   "source": []
  }
 ],
 "metadata": {
  "kernelspec": {
   "display_name": "Julia 1.10.5",
   "language": "julia",
   "name": "julia-1.10"
  },
  "language_info": {
   "file_extension": ".jl",
   "mimetype": "application/julia",
   "name": "julia",
   "version": "1.10.5"
  }
 },
 "nbformat": 4,
 "nbformat_minor": 5
}
