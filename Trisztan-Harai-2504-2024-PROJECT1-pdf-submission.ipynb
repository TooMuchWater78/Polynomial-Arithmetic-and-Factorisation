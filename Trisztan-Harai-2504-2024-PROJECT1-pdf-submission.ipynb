{
 "cells": [
  {
   "cell_type": "markdown",
   "id": "f426acb0-2f10-4a8e-b72c-f58e955c6b5a",
   "metadata": {},
   "source": [
    "# MATH2504 S2, 2024, Project 1 Submission\n",
    "\n",
    "### Trisztan Harai, 47483073\n",
    "\n",
    "<html>\n",
    "    <a href=\"https://github.com/TooMuchWater78/Trisztan-Harai-2504-2024-PROJECT1.git\">\n",
    "    GitHub repo\n",
    "    </a>\n",
    "<html>"
   ]
  },
  {
   "cell_type": "markdown",
   "id": "306a7690-2ed4-4cf8-8966-a32237d3d014",
   "metadata": {},
   "source": [
    "## Task 1"
   ]
  },
  {
   "cell_type": "markdown",
   "id": "bd4507d1-932c-4e04-bedf-e8b3e2308600",
   "metadata": {},
   "source": [
    "## Task 2"
   ]
  },
  {
   "cell_type": "markdown",
   "id": "df0852e9-f7ac-45d1-a998-117e96845161",
   "metadata": {},
   "source": [
    "When changing `max_degree_allowed` from `400` to `100`, and error occurs because during the"
   ]
  },
  {
   "cell_type": "markdown",
   "id": "7f82f947-6934-4b12-8fb7-fe22bef64532",
   "metadata": {},
   "source": [
    "## Task 3"
   ]
  },
  {
   "cell_type": "markdown",
   "id": "140ce537-dabd-4e7e-8c11-edf443cf7a60",
   "metadata": {},
   "source": [
    "## Task 4"
   ]
  },
  {
   "cell_type": "markdown",
   "id": "164b2457-9a55-4029-bb09-fceda9065688",
   "metadata": {},
   "source": [
    "## Task 5"
   ]
  },
  {
   "cell_type": "markdown",
   "id": "6db82877-444b-45b2-b4c3-049cd3f2287e",
   "metadata": {},
   "source": [
    "## Task 6"
   ]
  },
  {
   "cell_type": "markdown",
   "id": "a2c6c37c-3ded-4003-b40d-1a6dffe23384",
   "metadata": {},
   "source": [
    "## Task 7"
   ]
  },
  {
   "cell_type": "code",
   "execution_count": 1,
   "id": "d7f42b26-501a-4a08-a134-87d0516f94f5",
   "metadata": {},
   "outputs": [
    {
     "data": {
      "text/plain": [
       "4-element Vector{Float64}:\n",
       " 0.4056994708920292\n",
       " 0.06854582438651502\n",
       " 0.8621408571954849\n",
       " 0.08597086585842195"
      ]
     },
     "execution_count": 1,
     "metadata": {},
     "output_type": "execute_result"
    }
   ],
   "source": [
    "using Random\n",
    "\n",
    "Random.seed!(0)\n",
    "\n",
    "rand(4)"
   ]
  },
  {
   "cell_type": "code",
   "execution_count": null,
   "id": "b813187d-cf10-4f22-831f-66e93fad1260",
   "metadata": {},
   "outputs": [],
   "source": []
  }
 ],
 "metadata": {
  "kernelspec": {
   "display_name": "Julia 1.10.5",
   "language": "julia",
   "name": "julia-1.10"
  },
  "language_info": {
   "file_extension": ".jl",
   "mimetype": "application/julia",
   "name": "julia",
   "version": "1.10.5"
  }
 },
 "nbformat": 4,
 "nbformat_minor": 5
}
